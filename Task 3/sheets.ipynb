{
 "cells": [
  {
   "cell_type": "code",
   "execution_count": 15,
   "metadata": {},
   "outputs": [],
   "source": [
    "import gspread"
   ]
  },
  {
   "cell_type": "markdown",
   "metadata": {},
   "source": [
    "### Open the myInfo Google Sheet and get all the information"
   ]
  },
  {
   "cell_type": "code",
   "execution_count": 18,
   "metadata": {},
   "outputs": [],
   "source": [
    "# get service_account.json file by following this method https://docs.gspread.org/en/latest/oauth2.html\n",
    "gc = gspread.service_account(filename=\"service_account.json\")\n",
    "# Open myInfo WorkBook\n",
    "sh = gc.open(\"myInfo\")\n",
    "# Getting All Values From a Worksheet as a List of Dictionaries\n",
    "data_list = sh.sheet1.get_all_records()"
   ]
  },
  {
   "cell_type": "code",
   "execution_count": 19,
   "metadata": {},
   "outputs": [
    {
     "name": "stdout",
     "output_type": "stream",
     "text": [
      "\n",
      "Information:\n",
      "Name : Md. Fahamidur Rahaman Rafi\n",
      "Phone : 8801776969832\n",
      "University: Daffodil International Univeristy\n",
      "Email: fahamidur2000@gmail.com\n"
     ]
    }
   ],
   "source": [
    "for info in data_list:\n",
    "    print(\"\\nInformation:\")\n",
    "    for key, value in info.items():\n",
    "        print(f\"{key}: {value}\")"
   ]
  },
  {
   "cell_type": "markdown",
   "metadata": {},
   "source": [
    "### Updating the E1 and E2 Cell to Add value in the Worksheet"
   ]
  },
  {
   "cell_type": "code",
   "execution_count": 22,
   "metadata": {},
   "outputs": [
    {
     "name": "stderr",
     "output_type": "stream",
     "text": [
      "C:\\Users\\DCL\\AppData\\Local\\Temp\\ipykernel_3092\\1640132272.py:1: DeprecationWarning: [Deprecated][in version 6.0.0]: Method signature's arguments 'range_name' and 'values' will change their order. We recommend using named arguments for minimal impact. In addition, the argument 'values' will be mandatory of type: 'List[List]'. (ex) Worksheet.update(values = [[]], range_name=) \n",
      "  sh.sheet1.update('E1', 'Updated Header')\n",
      "C:\\Users\\DCL\\AppData\\Local\\Temp\\ipykernel_3092\\1640132272.py:2: DeprecationWarning: [Deprecated][in version 6.0.0]: Method signature's arguments 'range_name' and 'values' will change their order. We recommend using named arguments for minimal impact. In addition, the argument 'values' will be mandatory of type: 'List[List]'. (ex) Worksheet.update(values = [[]], range_name=) \n",
      "  sh.sheet1.update('E2', 'Updated info')\n"
     ]
    },
    {
     "data": {
      "text/plain": [
       "{'spreadsheetId': '1Bi2s6v7G1R8U9kDFh5PQE8U9CH6iQ4Q3g_RVFGjfekQ',\n",
       " 'updatedRange': 'info!E2',\n",
       " 'updatedRows': 1,\n",
       " 'updatedColumns': 1,\n",
       " 'updatedCells': 1}"
      ]
     },
     "execution_count": 22,
     "metadata": {},
     "output_type": "execute_result"
    }
   ],
   "source": [
    "sh.sheet1.update('E1', 'Updated Header')\n",
    "sh.sheet1.update('E2', 'Updated info')"
   ]
  },
  {
   "cell_type": "code",
   "execution_count": 23,
   "metadata": {},
   "outputs": [
    {
     "name": "stdout",
     "output_type": "stream",
     "text": [
      "\n",
      "Information:\n",
      "Name : Md. Fahamidur Rahaman Rafi\n",
      "Phone : 8801776969832\n",
      "University: Daffodil International Univeristy\n",
      "Email: fahamidur2000@gmail.com\n",
      "Updated Header: Updated info\n"
     ]
    }
   ],
   "source": [
    "data_list = sh.sheet1.get_all_records()\n",
    "for info in data_list:\n",
    "    print(\"\\nInformation:\")\n",
    "    for key, value in info.items():\n",
    "        print(f\"{key}: {value}\")"
   ]
  },
  {
   "cell_type": "markdown",
   "metadata": {},
   "source": [
    "### Clear The Updated E1 and E2 Cell"
   ]
  },
  {
   "cell_type": "code",
   "execution_count": 24,
   "metadata": {},
   "outputs": [
    {
     "name": "stdout",
     "output_type": "stream",
     "text": [
      "\n",
      "Information:\n",
      "Name : Md. Fahamidur Rahaman Rafi\n",
      "Phone : 8801776969832\n",
      "University: Daffodil International Univeristy\n",
      "Email: fahamidur2000@gmail.com\n"
     ]
    }
   ],
   "source": [
    "sh.sheet1.batch_clear([\"E1\", \"E2\"])\n",
    "data_list = sh.sheet1.get_all_records()\n",
    "for info in data_list:\n",
    "    print(\"\\nInformation:\")\n",
    "    for key, value in info.items():\n",
    "        print(f\"{key}: {value}\")"
   ]
  }
 ],
 "metadata": {
  "kernelspec": {
   "display_name": "test",
   "language": "python",
   "name": "python3"
  },
  "language_info": {
   "codemirror_mode": {
    "name": "ipython",
    "version": 3
   },
   "file_extension": ".py",
   "mimetype": "text/x-python",
   "name": "python",
   "nbconvert_exporter": "python",
   "pygments_lexer": "ipython3",
   "version": "3.10.7"
  }
 },
 "nbformat": 4,
 "nbformat_minor": 2
}
