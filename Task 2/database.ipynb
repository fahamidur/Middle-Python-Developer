{
 "cells": [
  {
   "cell_type": "code",
   "execution_count": 1,
   "metadata": {},
   "outputs": [
    {
     "data": {
      "text/plain": [
       "<sqlite3.Cursor at 0x2325e27e7c0>"
      ]
     },
     "execution_count": 1,
     "metadata": {},
     "output_type": "execute_result"
    }
   ],
   "source": [
    "import sqlite3\n",
    "\n",
    "\n",
    "conn = sqlite3.connect('library.db')\n",
    "cursor = conn.cursor()\n",
    "\n",
    "\n",
    "cursor.execute('''\n",
    "    CREATE TABLE IF NOT EXISTS Authors (\n",
    "        author_id INTEGER PRIMARY KEY,\n",
    "        name TEXT,\n",
    "        birth_date TEXT\n",
    "    )\n",
    "''')\n",
    "\n",
    "cursor.execute('''\n",
    "    CREATE TABLE IF NOT EXISTS Books (\n",
    "        book_id INTEGER PRIMARY KEY,\n",
    "        title TEXT,\n",
    "        published_date TEXT,\n",
    "        author_id INTEGER,\n",
    "        FOREIGN KEY (author_id) REFERENCES Authors(author_id)\n",
    "    )\n",
    "''')\n",
    "\n"
   ]
  },
  {
   "cell_type": "code",
   "execution_count": 2,
   "metadata": {},
   "outputs": [],
   "source": [
    "# Function to add an author to the Authors table\n",
    "def add_author(name, birth_date):\n",
    "    cursor.execute('''\n",
    "        INSERT INTO Authors (name, birth_date) VALUES (?, ?)\n",
    "    ''', (name, birth_date))\n",
    "    conn.commit()\n",
    "\n",
    "# Function to add a book to the Books table\n",
    "def add_book(title, published_date, author_id):\n",
    "    cursor.execute('''\n",
    "        INSERT INTO Books (title, published_date, author_id) VALUES (?, ?, ?)\n",
    "    ''', (title, published_date, author_id))\n",
    "    conn.commit()\n",
    "\n",
    "# Function to retrieve all books by a specific author\n",
    "def get_books_by_author(author_id):\n",
    "    cursor.execute('''\n",
    "        SELECT * FROM Books WHERE author_id = ?\n",
    "    ''', (author_id,))\n",
    "    return cursor.fetchall()\n",
    "\n",
    "# Function to update book information\n",
    "def update_book(book_id, title, published_date):\n",
    "    cursor.execute('''\n",
    "        UPDATE Books SET title=?, published_date=? WHERE book_id=?\n",
    "    ''', (title, published_date, book_id))\n",
    "    conn.commit()\n",
    "\n",
    "# Function to delete a book\n",
    "def delete_book(book_id):\n",
    "    cursor.execute('''\n",
    "        DELETE FROM Books WHERE book_id=?\n",
    "    ''', (book_id,))\n",
    "    conn.commit()\n",
    "\n"
   ]
  },
  {
   "cell_type": "code",
   "execution_count": 3,
   "metadata": {},
   "outputs": [
    {
     "name": "stdout",
     "output_type": "stream",
     "text": [
      "[(1, \"Harry Potter and the Philosopher's Stone\", '1997-06-26', 1)]\n"
     ]
    }
   ],
   "source": [
    "add_author('J.K. Rowling', '1965-07-31')\n",
    "add_book('Harry Potter and the Philosopher\\'s Stone', '1997-06-26', 1)\n",
    "print(get_books_by_author(1))\n",
    "\n"
   ]
  },
  {
   "cell_type": "code",
   "execution_count": 4,
   "metadata": {},
   "outputs": [
    {
     "name": "stdout",
     "output_type": "stream",
     "text": [
      "[(1, \"Harry Potter and the Sorcerer's Stone\", '1998-09-01', 1)]\n"
     ]
    }
   ],
   "source": [
    "# Update book information\n",
    "update_book(1, 'Harry Potter and the Sorcerer\\'s Stone', '1998-09-01')\n",
    "print(get_books_by_author(1))"
   ]
  },
  {
   "cell_type": "code",
   "execution_count": 6,
   "metadata": {},
   "outputs": [
    {
     "name": "stdout",
     "output_type": "stream",
     "text": [
      "[]\n"
     ]
    }
   ],
   "source": [
    "# Delete a book\n",
    "delete_book(1)\n",
    "print(get_books_by_author(1))\n",
    "conn.close()"
   ]
  }
 ],
 "metadata": {
  "kernelspec": {
   "display_name": "test",
   "language": "python",
   "name": "python3"
  },
  "language_info": {
   "codemirror_mode": {
    "name": "ipython",
    "version": 3
   },
   "file_extension": ".py",
   "mimetype": "text/x-python",
   "name": "python",
   "nbconvert_exporter": "python",
   "pygments_lexer": "ipython3",
   "version": "3.10.7"
  }
 },
 "nbformat": 4,
 "nbformat_minor": 2
}
